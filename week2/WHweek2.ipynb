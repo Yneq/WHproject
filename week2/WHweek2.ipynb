{
  "nbformat": 4,
  "nbformat_minor": 0,
  "metadata": {
    "colab": {
      "provenance": []
    },
    "kernelspec": {
      "name": "python3",
      "display_name": "Python 3"
    },
    "language_info": {
      "name": "python"
    }
  },
  "cells": [
    {
      "cell_type": "code",
      "execution_count": 2,
      "metadata": {
        "colab": {
          "base_uri": "https://localhost:8080/"
        },
        "id": "8e3Q7aWMw76m",
        "outputId": "73402d82-7c7c-4ba4-ad63-f68634d650b0"
      },
      "outputs": [
        {
          "output_type": "stream",
          "name": "stdout",
          "text": [
            "Mary\n",
            "Copper\n",
            "Leslie\n",
            "Bob\n",
            "Vivian\n"
          ]
        }
      ],
      "source": [
        "def find_and_print(messages, current_station):\n",
        "    if current_station not in greenLine and current_station != \"Xiaobitan\":\n",
        "        return \"No Station\"\n",
        "\n",
        "    min_distance = float(\"inf\")\n",
        "    nearest_friend = None\n",
        "\n",
        "    friend_stations = {}\n",
        "    for friend, friend_station in messages.items():\n",
        "        if \"Xiaobitan\" in friend_station:\n",
        "            if current_station in [\"Xindian City Hall\", \"Xindian\"]:\n",
        "                friend_stations[friend] = 15.5\n",
        "            else:\n",
        "                friend_stations[friend] = 16.5 #其它情形正常作運算\n",
        "        else:\n",
        "            for station in greenLine:\n",
        "                if station in friend_station:\n",
        "                    friend_stations[friend] = greenLine.index(station)\n",
        "                    break\n",
        "\n",
        "    # 寻找最近的朋友\n",
        "    for friend, station_idx in friend_stations.items():\n",
        "        distance = abs(greenLine.index(current_station) - station_idx)\n",
        "        if distance < min_distance:\n",
        "            min_distance = distance\n",
        "            nearest_friend = friend\n",
        "\n",
        "    print(nearest_friend)\n",
        "\n",
        "\n",
        "\n",
        "\n",
        "\n",
        "    # location={\"Leslie\":\"Xiaobitan\",\"Bob\":\"Ximen\",\"Mary\":\"Jingmei\",\"Copper\":\"Taipei Arena\",\"Vivian\":\"Xindian\"}\n",
        "greenLine=[\"Songshan\",\"Nanjing Sanmin\",\"Taipei Arena\",\"Nanjing Fuxing\",\"Songjiang Nanjing\",\"Zhongshan\",\n",
        "               \"Beimen\",\"Ximen\",\"Xiaonanmen\",\"Chiang Kai-shek Memorial Hall\",\"Guting\",\"Taipower Building\",\n",
        "                \"Gongguan\",\"Wanlong\",\"Jingmei\",\"Dapinglin\",\"Qizhang\",\"Xindian City Hall\",\"Xindian\"]\n",
        "\n",
        "station_index = {}\n",
        "index_station = {}\n",
        "\n",
        "for i in range(len(greenLine)):\n",
        "    station_index[greenLine[i]] = i\n",
        "    index_station[i] = greenLine[i]\n",
        "\n",
        "messages={\n",
        "\"Leslie\":\"I'm at home near Xiaobitan station.\",\n",
        "\"Bob\":\"I'm at Ximen MRT station.\",\n",
        "\"Mary\":\"I have a drink near Jingmei MRT station.\",\n",
        "\"Copper\":\"I just saw a concert at Taipei Arena.\",\n",
        "\"Vivian\":\"I'm at Xindian station waiting for you.\"\n",
        "}\n",
        "\n",
        "find_and_print(messages, \"Wanlong\") # print Mary\n",
        "find_and_print(messages, \"Songshan\") # print Copper\n",
        "find_and_print(messages, \"Qizhang\") # print Leslie\n",
        "find_and_print(messages, \"Ximen\") # print Bob\n",
        "find_and_print(messages, \"Xindian City Hall\") # print Vivian\n"
      ]
    },
    {
      "cell_type": "code",
      "source": [
        "bookings={}\n",
        "def available(consultant_name, hour, duration):\n",
        "    if consultant_name in bookings:\n",
        "        for start, end in bookings[consultant_name]:\n",
        "            if not (hour >= end or (hour+duration) <= start):\n",
        "                return False\n",
        "    return True\n",
        "\n",
        "\n",
        "def book(consultants, hour, duration, criteria):\n",
        "    best_consultant = None\n",
        "    best_value = float(\"inf\") if criteria == \"price\" else 0\n",
        "    for consultant in consultants:\n",
        "        if available(consultant[\"name\"], hour, duration):\n",
        "            if consultant[\"price\"] < best_value:\n",
        "                best_consultant = consultant[\"name\"]\n",
        "                best_value = consultant[\"price\"]\n",
        "            elif consultant[\"rate\"] > best_value:\n",
        "                best_consultant = consultant[\"name\"]\n",
        "                best_value = consultant[\"rate\"]\n",
        "    if best_consultant:\n",
        "        if best_consultant not in bookings:\n",
        "            bookings[best_consultant] = []\n",
        "        bookings[best_consultant].append((hour, hour + duration))\n",
        "        return best_consultant\n",
        "    else:\n",
        "        return \"No Service\"\n",
        "\n",
        "consultants=[\n",
        "{\"name\":\"John\", \"rate\":4.5, \"price\":1000},\n",
        "{\"name\":\"Bob\", \"rate\":3, \"price\":1200},\n",
        "{\"name\":\"Jenny\", \"rate\":3.8, \"price\":800}\n",
        "]\n",
        "\n",
        "print(book(consultants, 15, 1, \"price\")) # Jenny\n",
        "print(book(consultants, 11, 2, \"price\")) # Jenny\n",
        "print(book(consultants, 10, 2, \"price\")) # John\n",
        "print(book(consultants, 20, 2, \"rate\"))# John\n",
        "print(book(consultants, 11, 1, \"rate\"))# Bob\n",
        "print(book(consultants, 11, 2, \"rate\"))# No Service\n",
        "print(book(consultants, 14, 3, \"price\")) # John"
      ],
      "metadata": {
        "colab": {
          "base_uri": "https://localhost:8080/"
        },
        "id": "y5ewGJZTxWzv",
        "outputId": "9e6f1f18-e000-4ab4-b47b-fd3e24f3f21a"
      },
      "execution_count": 3,
      "outputs": [
        {
          "output_type": "stream",
          "name": "stdout",
          "text": [
            "Jenny\n",
            "Jenny\n",
            "John\n",
            "John\n",
            "Bob\n",
            "No Service\n",
            "John\n"
          ]
        }
      ]
    },
    {
      "cell_type": "code",
      "source": [
        "def func(*data):\n",
        "    middle_names = {}\n",
        "    for name in data:\n",
        "        if len(name) == 2:\n",
        "            middle_name = name[1]\n",
        "        elif len(name) == 3 or len(name) == 4:\n",
        "            middle_name = name[-2]\n",
        "        else:\n",
        "            middle_name = name[2]\n",
        "\n",
        "        if middle_name not in middle_names:\n",
        "            middle_names[middle_name] = name\n",
        "        else:\n",
        "            del middle_names[middle_name]\n",
        "\n",
        "    if middle_names:\n",
        "        print(list(middle_names.values())[0])\n",
        "    else:\n",
        "        print(\"沒有\")\n",
        "\n",
        "func(\"彭大牆\", \"陳王明雅\", \"吳明\") # print 彭大牆\n",
        "func(\"郭靜雅\", \"王立強\", \"郭林靜宜\", \"郭立恆\", \"林花花\") # print 林花花\n",
        "func(\"郭宣雅\", \"林靜宜\", \"郭宣恆\", \"林靜花\") # print 沒有\n",
        "func(\"郭宣雅\", \"夏曼藍波安\", \"郭宣恆\") # print 夏曼藍波安"
      ],
      "metadata": {
        "colab": {
          "base_uri": "https://localhost:8080/"
        },
        "id": "j6pD66KAxcJ2",
        "outputId": "6bf92df4-ce8a-46fc-c845-f484d74216a3"
      },
      "execution_count": 4,
      "outputs": [
        {
          "output_type": "stream",
          "name": "stdout",
          "text": [
            "彭大牆\n",
            "林花花\n",
            "沒有\n",
            "夏曼藍波安\n"
          ]
        }
      ]
    },
    {
      "cell_type": "code",
      "source": [
        "def get_number(index, numblist=[]):\n",
        "    if not numblist:\n",
        "        numblist.append(0)\n",
        "\n",
        "    while len(numblist) <= index:\n",
        "        if len(numblist) %3 ==0:\n",
        "            nextnumb = numblist[-1] -1\n",
        "        else:\n",
        "            nextnumb = numblist[-1] +4\n",
        "        numblist.append(nextnumb)\n",
        "    return numblist[index]\n",
        "\n",
        "\n",
        "\n",
        "ans=get_number(1) # print 4\n",
        "print(ans)\n",
        "ans=get_number(5) # print 15\n",
        "print(ans)\n",
        "ans=get_number(10) # print 25\n",
        "print(ans)\n",
        "ans=get_number(30) # print 70\n",
        "print(ans)"
      ],
      "metadata": {
        "colab": {
          "base_uri": "https://localhost:8080/"
        },
        "id": "ExxB8_NbxhXv",
        "outputId": "c6dc8c39-2dc1-4024-f990-c530ad162d89"
      },
      "execution_count": 5,
      "outputs": [
        {
          "output_type": "stream",
          "name": "stdout",
          "text": [
            "4\n",
            "15\n",
            "25\n",
            "70\n"
          ]
        }
      ]
    }
  ]
}